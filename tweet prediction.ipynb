{
  "nbformat": 4,
  "nbformat_minor": 0,
  "metadata": {
    "colab": {
      "name": "Untitled71.ipynb",
      "provenance": [],
      "toc_visible": true,
      "include_colab_link": true
    },
    "kernelspec": {
      "name": "python3",
      "display_name": "Python 3"
    },
    "language_info": {
      "name": "python"
    }
  },
  "cells": [
    {
      "cell_type": "markdown",
      "metadata": {
        "id": "view-in-github",
        "colab_type": "text"
      },
      "source": [
        "<a href=\"https://colab.research.google.com/github/Majeed2096/Artathon-Style-Transfer-/blob/master/tweet%20prediction.ipynb\" target=\"_parent\"><img src=\"https://colab.research.google.com/assets/colab-badge.svg\" alt=\"Open In Colab\"/></a>"
      ]
    },
    {
      "cell_type": "code",
      "metadata": {
        "id": "X40QWVDUZ0QM"
      },
      "source": [
        "import pandas as pd\n",
        "import nltk\n",
        "import numpy as np\n"
      ],
      "execution_count": 1,
      "outputs": []
    },
    {
      "cell_type": "code",
      "metadata": {
        "id": "N6cizLWRaCoy"
      },
      "source": [
        "df = pd.read_csv('/content/tweet-featues.csv')\n",
        "df1 = pd.read_csv('/content/topic-features-news.csv')"
      ],
      "execution_count": 2,
      "outputs": []
    },
    {
      "cell_type": "code",
      "metadata": {
        "colab": {
          "base_uri": "https://localhost:8080/"
        },
        "id": "4rpw-gwNaIM3",
        "outputId": "3a264669-082d-438e-8665-046c50e89450"
      },
      "source": [
        "\n",
        "df.drop(\"Topic_Detection\" , inplace=True , axis = 1)\n",
        "df.drop(\"tweet_id\" , inplace=True , axis = 1)\n",
        "df.drop(\"tweet\" , inplace=True , axis = 1)\n",
        "df['user_Nametype'] = df['user_Nametype'].astype('category')\n",
        "df['tweet_type'] = df['tweet_type'].astype('category')\n",
        "\n",
        "\n",
        "\n",
        "df.info(1)"
      ],
      "execution_count": 3,
      "outputs": [
        {
          "output_type": "stream",
          "text": [
            "<class 'pandas.core.frame.DataFrame'>\n",
            "RangeIndex: 107150 entries, 0 to 107149\n",
            "Data columns (total 32 columns):\n",
            " #   Column                           Non-Null Count   Dtype   \n",
            "---  ------                           --------------   -----   \n",
            " 0   Topic_Name                       107150 non-null  object  \n",
            " 1   user_Nametype                    107150 non-null  category\n",
            " 2   tweet_without_EOL                107150 non-null  object  \n",
            " 3   tweet_type                       107150 non-null  category\n",
            " 4   tweet_length                     107150 non-null  int64   \n",
            " 5   tweet_contains_mention           107150 non-null  int64   \n",
            " 6   tweet_contains_URL               107150 non-null  int64   \n",
            " 7   tweet_contains_hashtag           107150 non-null  int64   \n",
            " 8   tweet_is_retweet                 107150 non-null  int64   \n",
            " 9   tweet_contains_multimedia        107150 non-null  int64   \n",
            " 10  Tweet_contains_NSFW_content      107150 non-null  int64   \n",
            " 11  tweet_contains_question_marks    107150 non-null  int64   \n",
            " 12  tweet_sentiment                  107150 non-null  object  \n",
            " 13  tweet_contains_exclamation       107150 non-null  int64   \n",
            " 14  tweet_contains_happy_smileys     107150 non-null  int64   \n",
            " 15  tweet_contains_sad_smileys       107150 non-null  int64   \n",
            " 16  tweet_has_specific_words         107150 non-null  int64   \n",
            " 17  Authors_hasURL_in_his_home_page  107150 non-null  int64   \n",
            " 18  The_number_of_favorites          107150 non-null  int64   \n",
            " 19  Is_Author_Credible               107150 non-null  int64   \n",
            " 20  registration_age                 107150 non-null  int64   \n",
            " 21  Number_of_followers              107150 non-null  int64   \n",
            " 22  Number_of_following              107150 non-null  int64   \n",
            " 23  Number_of_retweets               107150 non-null  int64   \n",
            " 24  Reputaion_Score                  107150 non-null  float64 \n",
            " 25  Is_authors_has_description       107150 non-null  int64   \n",
            " 26  Author_has_Notification          107150 non-null  int64   \n",
            " 27  Author_followed_by_credibleuser  107150 non-null  int64   \n",
            " 28  Time_span                        107150 non-null  int64   \n",
            " 29  listed_count                     107150 non-null  int64   \n",
            " 30  Number_of_tweet_posted           107150 non-null  int64   \n",
            " 31  User_effect                      107150 non-null  float64 \n",
            "dtypes: category(2), float64(2), int64(25), object(3)\n",
            "memory usage: 24.7+ MB\n"
          ],
          "name": "stdout"
        }
      ]
    },
    {
      "cell_type": "code",
      "metadata": {
        "id": "fSFcf1WORvhg",
        "outputId": "50b99928-798d-451f-8e14-a714d157f6cb",
        "colab": {
          "base_uri": "https://localhost:8080/",
          "height": 199
        }
      },
      "source": [
        "df.head(2)"
      ],
      "execution_count": 4,
      "outputs": [
        {
          "output_type": "execute_result",
          "data": {
            "text/html": [
              "<div>\n",
              "<style scoped>\n",
              "    .dataframe tbody tr th:only-of-type {\n",
              "        vertical-align: middle;\n",
              "    }\n",
              "\n",
              "    .dataframe tbody tr th {\n",
              "        vertical-align: top;\n",
              "    }\n",
              "\n",
              "    .dataframe thead th {\n",
              "        text-align: right;\n",
              "    }\n",
              "</style>\n",
              "<table border=\"1\" class=\"dataframe\">\n",
              "  <thead>\n",
              "    <tr style=\"text-align: right;\">\n",
              "      <th></th>\n",
              "      <th>Topic_Name</th>\n",
              "      <th>user_Nametype</th>\n",
              "      <th>tweet_without_EOL</th>\n",
              "      <th>tweet_type</th>\n",
              "      <th>tweet_length</th>\n",
              "      <th>tweet_contains_mention</th>\n",
              "      <th>tweet_contains_URL</th>\n",
              "      <th>tweet_contains_hashtag</th>\n",
              "      <th>tweet_is_retweet</th>\n",
              "      <th>tweet_contains_multimedia</th>\n",
              "      <th>Tweet_contains_NSFW_content</th>\n",
              "      <th>tweet_contains_question_marks</th>\n",
              "      <th>tweet_sentiment</th>\n",
              "      <th>tweet_contains_exclamation</th>\n",
              "      <th>tweet_contains_happy_smileys</th>\n",
              "      <th>tweet_contains_sad_smileys</th>\n",
              "      <th>tweet_has_specific_words</th>\n",
              "      <th>Authors_hasURL_in_his_home_page</th>\n",
              "      <th>The_number_of_favorites</th>\n",
              "      <th>Is_Author_Credible</th>\n",
              "      <th>registration_age</th>\n",
              "      <th>Number_of_followers</th>\n",
              "      <th>Number_of_following</th>\n",
              "      <th>Number_of_retweets</th>\n",
              "      <th>Reputaion_Score</th>\n",
              "      <th>Is_authors_has_description</th>\n",
              "      <th>Author_has_Notification</th>\n",
              "      <th>Author_followed_by_credibleuser</th>\n",
              "      <th>Time_span</th>\n",
              "      <th>listed_count</th>\n",
              "      <th>Number_of_tweet_posted</th>\n",
              "      <th>User_effect</th>\n",
              "    </tr>\n",
              "  </thead>\n",
              "  <tbody>\n",
              "    <tr>\n",
              "      <th>0</th>\n",
              "      <td>شاب سعودي ينقذ طفل من امام القطار في بلجيكا</td>\n",
              "      <td>Personal</td>\n",
              "      <td>شجاعة شاب سعودي ينقذ طفلاً في بلجيكا قبل أن يد...</td>\n",
              "      <td>News</td>\n",
              "      <td>209</td>\n",
              "      <td>0</td>\n",
              "      <td>1</td>\n",
              "      <td>1</td>\n",
              "      <td>0</td>\n",
              "      <td>0</td>\n",
              "      <td>0</td>\n",
              "      <td>0</td>\n",
              "      <td>Positive</td>\n",
              "      <td>0</td>\n",
              "      <td>0</td>\n",
              "      <td>0</td>\n",
              "      <td>0</td>\n",
              "      <td>0</td>\n",
              "      <td>1</td>\n",
              "      <td>0</td>\n",
              "      <td>1</td>\n",
              "      <td>6877</td>\n",
              "      <td>296</td>\n",
              "      <td>3</td>\n",
              "      <td>0.96</td>\n",
              "      <td>1</td>\n",
              "      <td>0</td>\n",
              "      <td>0</td>\n",
              "      <td>1</td>\n",
              "      <td>4</td>\n",
              "      <td>3210</td>\n",
              "      <td>23.23</td>\n",
              "    </tr>\n",
              "    <tr>\n",
              "      <th>1</th>\n",
              "      <td>شاب سعودي ينقذ طفل من امام القطار في بلجيكا</td>\n",
              "      <td>Personal</td>\n",
              "      <td>شجاعة شاب سعودي ينقذ طفلاً في بلجيكا قبل أن ي...</td>\n",
              "      <td>News</td>\n",
              "      <td>233</td>\n",
              "      <td>0</td>\n",
              "      <td>0</td>\n",
              "      <td>1</td>\n",
              "      <td>1</td>\n",
              "      <td>0</td>\n",
              "      <td>0</td>\n",
              "      <td>0</td>\n",
              "      <td>Positive</td>\n",
              "      <td>0</td>\n",
              "      <td>0</td>\n",
              "      <td>0</td>\n",
              "      <td>0</td>\n",
              "      <td>0</td>\n",
              "      <td>0</td>\n",
              "      <td>0</td>\n",
              "      <td>5</td>\n",
              "      <td>1108</td>\n",
              "      <td>2375</td>\n",
              "      <td>3</td>\n",
              "      <td>0.32</td>\n",
              "      <td>1</td>\n",
              "      <td>0</td>\n",
              "      <td>0</td>\n",
              "      <td>5</td>\n",
              "      <td>2</td>\n",
              "      <td>16212</td>\n",
              "      <td>0.47</td>\n",
              "    </tr>\n",
              "  </tbody>\n",
              "</table>\n",
              "</div>"
            ],
            "text/plain": [
              "                                    Topic_Name  ... User_effect\n",
              "0  شاب سعودي ينقذ طفل من امام القطار في بلجيكا  ...       23.23\n",
              "1  شاب سعودي ينقذ طفل من امام القطار في بلجيكا  ...        0.47\n",
              "\n",
              "[2 rows x 32 columns]"
            ]
          },
          "metadata": {
            "tags": []
          },
          "execution_count": 4
        }
      ]
    },
    {
      "cell_type": "code",
      "metadata": {
        "id": "crOYoaWyRz2S",
        "outputId": "fe8b1ceb-a2a0-4598-d797-0c4ed41095aa",
        "colab": {
          "base_uri": "https://localhost:8080/"
        }
      },
      "source": [
        "df = df.merge(df1 , on = \"Topic_Name\")\n",
        "df.info()"
      ],
      "execution_count": 5,
      "outputs": [
        {
          "output_type": "stream",
          "text": [
            "<class 'pandas.core.frame.DataFrame'>\n",
            "Int64Index: 107150 entries, 0 to 107149\n",
            "Data columns (total 62 columns):\n",
            " #   Column                                                    Non-Null Count   Dtype   \n",
            "---  ------                                                    --------------   -----   \n",
            " 0   Topic_Name                                                107150 non-null  object  \n",
            " 1   user_Nametype                                             107150 non-null  category\n",
            " 2   tweet_without_EOL                                         107150 non-null  object  \n",
            " 3   tweet_type                                                107150 non-null  category\n",
            " 4   tweet_length                                              107150 non-null  int64   \n",
            " 5   tweet_contains_mention                                    107150 non-null  int64   \n",
            " 6   tweet_contains_URL                                        107150 non-null  int64   \n",
            " 7   tweet_contains_hashtag                                    107150 non-null  int64   \n",
            " 8   tweet_is_retweet                                          107150 non-null  int64   \n",
            " 9   tweet_contains_multimedia                                 107150 non-null  int64   \n",
            " 10  Tweet_contains_NSFW_content                               107150 non-null  int64   \n",
            " 11  tweet_contains_question_marks                             107150 non-null  int64   \n",
            " 12  tweet_sentiment                                           107150 non-null  object  \n",
            " 13  tweet_contains_exclamation                                107150 non-null  int64   \n",
            " 14  tweet_contains_happy_smileys                              107150 non-null  int64   \n",
            " 15  tweet_contains_sad_smileys                                107150 non-null  int64   \n",
            " 16  tweet_has_specific_words                                  107150 non-null  int64   \n",
            " 17  Authors_hasURL_in_his_home_page                           107150 non-null  int64   \n",
            " 18  The_number_of_favorites                                   107150 non-null  int64   \n",
            " 19  Is_Author_Credible                                        107150 non-null  int64   \n",
            " 20  registration_age                                          107150 non-null  int64   \n",
            " 21  Number_of_followers                                       107150 non-null  int64   \n",
            " 22  Number_of_following                                       107150 non-null  int64   \n",
            " 23  Number_of_retweets                                        107150 non-null  int64   \n",
            " 24  Reputaion_Score                                           107150 non-null  float64 \n",
            " 25  Is_authors_has_description                                107150 non-null  int64   \n",
            " 26  Author_has_Notification                                   107150 non-null  int64   \n",
            " 27  Author_followed_by_credibleuser                           107150 non-null  int64   \n",
            " 28  Time_span                                                 107150 non-null  int64   \n",
            " 29  listed_count                                              107150 non-null  int64   \n",
            " 30  Number_of_tweet_posted                                    107150 non-null  int64   \n",
            " 31  User_effect                                               107150 non-null  float64 \n",
            " 32  Ratio_orgnization_users_Nametype                          107150 non-null  float64 \n",
            " 33  Ratio_of_tweets_containing_mention                        107150 non-null  float64 \n",
            " 34  Ratio_of_tweets_containing_URLs                           107150 non-null  float64 \n",
            " 35  Ratio_of_tweets_containing_hashtag                        107150 non-null  float64 \n",
            " 36  Ratio_of_tweet_containing_NSFW_content                    107150 non-null  float64 \n",
            " 37  Ratio_of_tweets_that_are_retweets                         107150 non-null  float64 \n",
            " 38  Ratio_of_tweets_have_multimedia                           107150 non-null  float64 \n",
            " 39  Ratio_of_tweets_from_credible_authors                     107150 non-null  float64 \n",
            " 40  Ratio_of_tweets_containing_question_marks                 107150 non-null  float64 \n",
            " 41  Ratio_of_tweets_with_positive_sentimnet                   107150 non-null  float64 \n",
            " 42  Ratio_of_tweets_with_negative_sentiment                   107150 non-null  float64 \n",
            " 43  Ratio_of_tweets_with_netural_sentiment                    107150 non-null  float64 \n",
            " 44  Ratio_of_tweets_containing_exclamation                    107150 non-null  float64 \n",
            " 45  Ratio_of_tweets_containing_happy_smileys                  107150 non-null  float64 \n",
            " 46  Ratio_of_tweets_having_specific_words_in_tweet            107150 non-null  float64 \n",
            " 47  Ratio_of_tweets_from_authors_have_URL_in_their_home_page  107150 non-null  float64 \n",
            " 48  Ratio_of_Authorsr_who_follwed_by__credibleuser            107150 non-null  float64 \n",
            " 49  Ratio_of_authors_have_description                         107150 non-null  float64 \n",
            " 50  Average_tweet_length                                      107150 non-null  float64 \n",
            " 51  Average_registration_age                                  107150 non-null  float64 \n",
            " 52  Average_number_of_tweets_posted_Activity                  107150 non-null  float64 \n",
            " 53  Average_number_of_favorites                               107150 non-null  float64 \n",
            " 54  Average_Number_of_followers                               107150 non-null  float64 \n",
            " 55  Average_Number_of_following                               107150 non-null  float64 \n",
            " 56  Average_Time_span                                         107150 non-null  float64 \n",
            " 57  Average_number_of_retweets                                107150 non-null  float64 \n",
            " 58  Average_listed_counts                                     107150 non-null  float64 \n",
            " 59  Average_user_effect                                       107150 non-null  float64 \n",
            " 60  Average_of_Reputaion                                      107150 non-null  float64 \n",
            " 61  Topic_Detection                                           107150 non-null  object  \n",
            "dtypes: category(2), float64(31), int64(25), object(4)\n",
            "memory usage: 50.1+ MB\n"
          ],
          "name": "stdout"
        }
      ]
    },
    {
      "cell_type": "code",
      "metadata": {
        "colab": {
          "base_uri": "https://localhost:8080/",
          "height": 134
        },
        "id": "hNl2i7EAaWI2",
        "outputId": "b79c9a9b-7376-4b1f-8a93-3f37a3d5c90e"
      },
      "source": [
        "df.groupby(\"Topic_Detection\").count()\n",
        "df.head(1)"
      ],
      "execution_count": 6,
      "outputs": [
        {
          "output_type": "execute_result",
          "data": {
            "text/html": [
              "<div>\n",
              "<style scoped>\n",
              "    .dataframe tbody tr th:only-of-type {\n",
              "        vertical-align: middle;\n",
              "    }\n",
              "\n",
              "    .dataframe tbody tr th {\n",
              "        vertical-align: top;\n",
              "    }\n",
              "\n",
              "    .dataframe thead th {\n",
              "        text-align: right;\n",
              "    }\n",
              "</style>\n",
              "<table border=\"1\" class=\"dataframe\">\n",
              "  <thead>\n",
              "    <tr style=\"text-align: right;\">\n",
              "      <th></th>\n",
              "      <th>Topic_Name</th>\n",
              "      <th>user_Nametype</th>\n",
              "      <th>tweet_without_EOL</th>\n",
              "      <th>tweet_type</th>\n",
              "      <th>tweet_length</th>\n",
              "      <th>tweet_contains_mention</th>\n",
              "      <th>tweet_contains_URL</th>\n",
              "      <th>tweet_contains_hashtag</th>\n",
              "      <th>tweet_is_retweet</th>\n",
              "      <th>tweet_contains_multimedia</th>\n",
              "      <th>Tweet_contains_NSFW_content</th>\n",
              "      <th>tweet_contains_question_marks</th>\n",
              "      <th>tweet_sentiment</th>\n",
              "      <th>tweet_contains_exclamation</th>\n",
              "      <th>tweet_contains_happy_smileys</th>\n",
              "      <th>tweet_contains_sad_smileys</th>\n",
              "      <th>tweet_has_specific_words</th>\n",
              "      <th>Authors_hasURL_in_his_home_page</th>\n",
              "      <th>The_number_of_favorites</th>\n",
              "      <th>Is_Author_Credible</th>\n",
              "      <th>registration_age</th>\n",
              "      <th>Number_of_followers</th>\n",
              "      <th>Number_of_following</th>\n",
              "      <th>Number_of_retweets</th>\n",
              "      <th>Reputaion_Score</th>\n",
              "      <th>Is_authors_has_description</th>\n",
              "      <th>Author_has_Notification</th>\n",
              "      <th>Author_followed_by_credibleuser</th>\n",
              "      <th>Time_span</th>\n",
              "      <th>listed_count</th>\n",
              "      <th>Number_of_tweet_posted</th>\n",
              "      <th>User_effect</th>\n",
              "      <th>Ratio_orgnization_users_Nametype</th>\n",
              "      <th>Ratio_of_tweets_containing_mention</th>\n",
              "      <th>Ratio_of_tweets_containing_URLs</th>\n",
              "      <th>Ratio_of_tweets_containing_hashtag</th>\n",
              "      <th>Ratio_of_tweet_containing_NSFW_content</th>\n",
              "      <th>Ratio_of_tweets_that_are_retweets</th>\n",
              "      <th>Ratio_of_tweets_have_multimedia</th>\n",
              "      <th>Ratio_of_tweets_from_credible_authors</th>\n",
              "      <th>Ratio_of_tweets_containing_question_marks</th>\n",
              "      <th>Ratio_of_tweets_with_positive_sentimnet</th>\n",
              "      <th>Ratio_of_tweets_with_negative_sentiment</th>\n",
              "      <th>Ratio_of_tweets_with_netural_sentiment</th>\n",
              "      <th>Ratio_of_tweets_containing_exclamation</th>\n",
              "      <th>Ratio_of_tweets_containing_happy_smileys</th>\n",
              "      <th>Ratio_of_tweets_having_specific_words_in_tweet</th>\n",
              "      <th>Ratio_of_tweets_from_authors_have_URL_in_their_home_page</th>\n",
              "      <th>Ratio_of_Authorsr_who_follwed_by__credibleuser</th>\n",
              "      <th>Ratio_of_authors_have_description</th>\n",
              "      <th>Average_tweet_length</th>\n",
              "      <th>Average_registration_age</th>\n",
              "      <th>Average_number_of_tweets_posted_Activity</th>\n",
              "      <th>Average_number_of_favorites</th>\n",
              "      <th>Average_Number_of_followers</th>\n",
              "      <th>Average_Number_of_following</th>\n",
              "      <th>Average_Time_span</th>\n",
              "      <th>Average_number_of_retweets</th>\n",
              "      <th>Average_listed_counts</th>\n",
              "      <th>Average_user_effect</th>\n",
              "      <th>Average_of_Reputaion</th>\n",
              "      <th>Topic_Detection</th>\n",
              "    </tr>\n",
              "  </thead>\n",
              "  <tbody>\n",
              "    <tr>\n",
              "      <th>0</th>\n",
              "      <td>شاب سعودي ينقذ طفل من امام القطار في بلجيكا</td>\n",
              "      <td>Personal</td>\n",
              "      <td>شجاعة شاب سعودي ينقذ طفلاً في بلجيكا قبل أن يد...</td>\n",
              "      <td>News</td>\n",
              "      <td>209</td>\n",
              "      <td>0</td>\n",
              "      <td>1</td>\n",
              "      <td>1</td>\n",
              "      <td>0</td>\n",
              "      <td>0</td>\n",
              "      <td>0</td>\n",
              "      <td>0</td>\n",
              "      <td>Positive</td>\n",
              "      <td>0</td>\n",
              "      <td>0</td>\n",
              "      <td>0</td>\n",
              "      <td>0</td>\n",
              "      <td>0</td>\n",
              "      <td>1</td>\n",
              "      <td>0</td>\n",
              "      <td>1</td>\n",
              "      <td>6877</td>\n",
              "      <td>296</td>\n",
              "      <td>3</td>\n",
              "      <td>0.96</td>\n",
              "      <td>1</td>\n",
              "      <td>0</td>\n",
              "      <td>0</td>\n",
              "      <td>1</td>\n",
              "      <td>4</td>\n",
              "      <td>3210</td>\n",
              "      <td>23.23</td>\n",
              "      <td>0.008</td>\n",
              "      <td>0.033</td>\n",
              "      <td>0.114</td>\n",
              "      <td>0.553</td>\n",
              "      <td>0.024</td>\n",
              "      <td>0.789</td>\n",
              "      <td>0.268</td>\n",
              "      <td>0.0</td>\n",
              "      <td>0.041</td>\n",
              "      <td>0.943</td>\n",
              "      <td>0.041</td>\n",
              "      <td>0.016</td>\n",
              "      <td>0.008</td>\n",
              "      <td>0.0</td>\n",
              "      <td>0.0</td>\n",
              "      <td>0.073</td>\n",
              "      <td>0.0</td>\n",
              "      <td>1.0</td>\n",
              "      <td>205.041</td>\n",
              "      <td>2.366</td>\n",
              "      <td>18789.1</td>\n",
              "      <td>1.943</td>\n",
              "      <td>4635.43</td>\n",
              "      <td>1442.63</td>\n",
              "      <td>2.366</td>\n",
              "      <td>17.366</td>\n",
              "      <td>4.683</td>\n",
              "      <td>1831.28</td>\n",
              "      <td>0.492</td>\n",
              "      <td>Rumor</td>\n",
              "    </tr>\n",
              "  </tbody>\n",
              "</table>\n",
              "</div>"
            ],
            "text/plain": [
              "                                    Topic_Name  ... Topic_Detection\n",
              "0  شاب سعودي ينقذ طفل من امام القطار في بلجيكا  ...           Rumor\n",
              "\n",
              "[1 rows x 62 columns]"
            ]
          },
          "metadata": {
            "tags": []
          },
          "execution_count": 6
        }
      ]
    },
    {
      "cell_type": "code",
      "metadata": {
        "id": "eGhmbuxcU315",
        "outputId": "09591bbc-6626-4731-b190-65ed7fde5b20",
        "colab": {
          "base_uri": "https://localhost:8080/",
          "height": 134
        }
      },
      "source": [
        "for column in df:\n",
        "  if (( str(df[column].dtypes) == 'int64') | (str(df[column].dtypes) == 'float64')):\n",
        "    df[column] = (df[column] - df[column].min()) / (df[column].max() - df[column].min())\n",
        "    df[column]  = df[column].fillna(0)\n",
        "\n",
        "df.head(1)"
      ],
      "execution_count": 7,
      "outputs": [
        {
          "output_type": "execute_result",
          "data": {
            "text/html": [
              "<div>\n",
              "<style scoped>\n",
              "    .dataframe tbody tr th:only-of-type {\n",
              "        vertical-align: middle;\n",
              "    }\n",
              "\n",
              "    .dataframe tbody tr th {\n",
              "        vertical-align: top;\n",
              "    }\n",
              "\n",
              "    .dataframe thead th {\n",
              "        text-align: right;\n",
              "    }\n",
              "</style>\n",
              "<table border=\"1\" class=\"dataframe\">\n",
              "  <thead>\n",
              "    <tr style=\"text-align: right;\">\n",
              "      <th></th>\n",
              "      <th>Topic_Name</th>\n",
              "      <th>user_Nametype</th>\n",
              "      <th>tweet_without_EOL</th>\n",
              "      <th>tweet_type</th>\n",
              "      <th>tweet_length</th>\n",
              "      <th>tweet_contains_mention</th>\n",
              "      <th>tweet_contains_URL</th>\n",
              "      <th>tweet_contains_hashtag</th>\n",
              "      <th>tweet_is_retweet</th>\n",
              "      <th>tweet_contains_multimedia</th>\n",
              "      <th>Tweet_contains_NSFW_content</th>\n",
              "      <th>tweet_contains_question_marks</th>\n",
              "      <th>tweet_sentiment</th>\n",
              "      <th>tweet_contains_exclamation</th>\n",
              "      <th>tweet_contains_happy_smileys</th>\n",
              "      <th>tweet_contains_sad_smileys</th>\n",
              "      <th>tweet_has_specific_words</th>\n",
              "      <th>Authors_hasURL_in_his_home_page</th>\n",
              "      <th>The_number_of_favorites</th>\n",
              "      <th>Is_Author_Credible</th>\n",
              "      <th>registration_age</th>\n",
              "      <th>Number_of_followers</th>\n",
              "      <th>Number_of_following</th>\n",
              "      <th>Number_of_retweets</th>\n",
              "      <th>Reputaion_Score</th>\n",
              "      <th>Is_authors_has_description</th>\n",
              "      <th>Author_has_Notification</th>\n",
              "      <th>Author_followed_by_credibleuser</th>\n",
              "      <th>Time_span</th>\n",
              "      <th>listed_count</th>\n",
              "      <th>Number_of_tweet_posted</th>\n",
              "      <th>User_effect</th>\n",
              "      <th>Ratio_orgnization_users_Nametype</th>\n",
              "      <th>Ratio_of_tweets_containing_mention</th>\n",
              "      <th>Ratio_of_tweets_containing_URLs</th>\n",
              "      <th>Ratio_of_tweets_containing_hashtag</th>\n",
              "      <th>Ratio_of_tweet_containing_NSFW_content</th>\n",
              "      <th>Ratio_of_tweets_that_are_retweets</th>\n",
              "      <th>Ratio_of_tweets_have_multimedia</th>\n",
              "      <th>Ratio_of_tweets_from_credible_authors</th>\n",
              "      <th>Ratio_of_tweets_containing_question_marks</th>\n",
              "      <th>Ratio_of_tweets_with_positive_sentimnet</th>\n",
              "      <th>Ratio_of_tweets_with_negative_sentiment</th>\n",
              "      <th>Ratio_of_tweets_with_netural_sentiment</th>\n",
              "      <th>Ratio_of_tweets_containing_exclamation</th>\n",
              "      <th>Ratio_of_tweets_containing_happy_smileys</th>\n",
              "      <th>Ratio_of_tweets_having_specific_words_in_tweet</th>\n",
              "      <th>Ratio_of_tweets_from_authors_have_URL_in_their_home_page</th>\n",
              "      <th>Ratio_of_Authorsr_who_follwed_by__credibleuser</th>\n",
              "      <th>Ratio_of_authors_have_description</th>\n",
              "      <th>Average_tweet_length</th>\n",
              "      <th>Average_registration_age</th>\n",
              "      <th>Average_number_of_tweets_posted_Activity</th>\n",
              "      <th>Average_number_of_favorites</th>\n",
              "      <th>Average_Number_of_followers</th>\n",
              "      <th>Average_Number_of_following</th>\n",
              "      <th>Average_Time_span</th>\n",
              "      <th>Average_number_of_retweets</th>\n",
              "      <th>Average_listed_counts</th>\n",
              "      <th>Average_user_effect</th>\n",
              "      <th>Average_of_Reputaion</th>\n",
              "      <th>Topic_Detection</th>\n",
              "    </tr>\n",
              "  </thead>\n",
              "  <tbody>\n",
              "    <tr>\n",
              "      <th>0</th>\n",
              "      <td>شاب سعودي ينقذ طفل من امام القطار في بلجيكا</td>\n",
              "      <td>Personal</td>\n",
              "      <td>شجاعة شاب سعودي ينقذ طفلاً في بلجيكا قبل أن يد...</td>\n",
              "      <td>News</td>\n",
              "      <td>0.637324</td>\n",
              "      <td>0.0</td>\n",
              "      <td>1.0</td>\n",
              "      <td>1.0</td>\n",
              "      <td>0.0</td>\n",
              "      <td>0.0</td>\n",
              "      <td>0.0</td>\n",
              "      <td>0.0</td>\n",
              "      <td>Positive</td>\n",
              "      <td>0.0</td>\n",
              "      <td>0.0</td>\n",
              "      <td>0.0</td>\n",
              "      <td>0.0</td>\n",
              "      <td>0.0</td>\n",
              "      <td>0.000384</td>\n",
              "      <td>0.0</td>\n",
              "      <td>0.090909</td>\n",
              "      <td>0.000383</td>\n",
              "      <td>0.000133</td>\n",
              "      <td>0.000322</td>\n",
              "      <td>0.96</td>\n",
              "      <td>1.0</td>\n",
              "      <td>0.0</td>\n",
              "      <td>0.0</td>\n",
              "      <td>0.090909</td>\n",
              "      <td>0.000216</td>\n",
              "      <td>0.001465</td>\n",
              "      <td>0.000002</td>\n",
              "      <td>0.008</td>\n",
              "      <td>0.033</td>\n",
              "      <td>0.114</td>\n",
              "      <td>0.553</td>\n",
              "      <td>0.167832</td>\n",
              "      <td>0.789</td>\n",
              "      <td>0.268</td>\n",
              "      <td>0.0</td>\n",
              "      <td>0.041</td>\n",
              "      <td>0.943</td>\n",
              "      <td>0.041</td>\n",
              "      <td>0.016</td>\n",
              "      <td>0.008889</td>\n",
              "      <td>0.0</td>\n",
              "      <td>0.0</td>\n",
              "      <td>0.073</td>\n",
              "      <td>0.0</td>\n",
              "      <td>1.0</td>\n",
              "      <td>0.727681</td>\n",
              "      <td>0.275116</td>\n",
              "      <td>0.048511</td>\n",
              "      <td>0.140889</td>\n",
              "      <td>0.006747</td>\n",
              "      <td>0.040924</td>\n",
              "      <td>0.275116</td>\n",
              "      <td>0.004387</td>\n",
              "      <td>0.006817</td>\n",
              "      <td>0.021863</td>\n",
              "      <td>0.454248</td>\n",
              "      <td>Rumor</td>\n",
              "    </tr>\n",
              "  </tbody>\n",
              "</table>\n",
              "</div>"
            ],
            "text/plain": [
              "                                    Topic_Name  ... Topic_Detection\n",
              "0  شاب سعودي ينقذ طفل من امام القطار في بلجيكا  ...           Rumor\n",
              "\n",
              "[1 rows x 62 columns]"
            ]
          },
          "metadata": {
            "tags": []
          },
          "execution_count": 7
        }
      ]
    },
    {
      "cell_type": "code",
      "metadata": {
        "id": "Uy_62NcpbpFO",
        "outputId": "0a24d648-da08-4e81-c776-bfd33324844e",
        "colab": {
          "base_uri": "https://localhost:8080/"
        }
      },
      "source": [
        "df['tweet_sentiment'] = df.tweet_sentiment=='Positive'\n",
        "df['Topic_Detection'] = df.Topic_Detection=='Rumor'\n",
        "df.info()"
      ],
      "execution_count": 8,
      "outputs": [
        {
          "output_type": "stream",
          "text": [
            "<class 'pandas.core.frame.DataFrame'>\n",
            "Int64Index: 107150 entries, 0 to 107149\n",
            "Data columns (total 62 columns):\n",
            " #   Column                                                    Non-Null Count   Dtype   \n",
            "---  ------                                                    --------------   -----   \n",
            " 0   Topic_Name                                                107150 non-null  object  \n",
            " 1   user_Nametype                                             107150 non-null  category\n",
            " 2   tweet_without_EOL                                         107150 non-null  object  \n",
            " 3   tweet_type                                                107150 non-null  category\n",
            " 4   tweet_length                                              107150 non-null  float64 \n",
            " 5   tweet_contains_mention                                    107150 non-null  float64 \n",
            " 6   tweet_contains_URL                                        107150 non-null  float64 \n",
            " 7   tweet_contains_hashtag                                    107150 non-null  float64 \n",
            " 8   tweet_is_retweet                                          107150 non-null  float64 \n",
            " 9   tweet_contains_multimedia                                 107150 non-null  float64 \n",
            " 10  Tweet_contains_NSFW_content                               107150 non-null  float64 \n",
            " 11  tweet_contains_question_marks                             107150 non-null  float64 \n",
            " 12  tweet_sentiment                                           107150 non-null  bool    \n",
            " 13  tweet_contains_exclamation                                107150 non-null  float64 \n",
            " 14  tweet_contains_happy_smileys                              107150 non-null  float64 \n",
            " 15  tweet_contains_sad_smileys                                107150 non-null  float64 \n",
            " 16  tweet_has_specific_words                                  107150 non-null  float64 \n",
            " 17  Authors_hasURL_in_his_home_page                           107150 non-null  float64 \n",
            " 18  The_number_of_favorites                                   107150 non-null  float64 \n",
            " 19  Is_Author_Credible                                        107150 non-null  float64 \n",
            " 20  registration_age                                          107150 non-null  float64 \n",
            " 21  Number_of_followers                                       107150 non-null  float64 \n",
            " 22  Number_of_following                                       107150 non-null  float64 \n",
            " 23  Number_of_retweets                                        107150 non-null  float64 \n",
            " 24  Reputaion_Score                                           107150 non-null  float64 \n",
            " 25  Is_authors_has_description                                107150 non-null  float64 \n",
            " 26  Author_has_Notification                                   107150 non-null  float64 \n",
            " 27  Author_followed_by_credibleuser                           107150 non-null  float64 \n",
            " 28  Time_span                                                 107150 non-null  float64 \n",
            " 29  listed_count                                              107150 non-null  float64 \n",
            " 30  Number_of_tweet_posted                                    107150 non-null  float64 \n",
            " 31  User_effect                                               107150 non-null  float64 \n",
            " 32  Ratio_orgnization_users_Nametype                          107150 non-null  float64 \n",
            " 33  Ratio_of_tweets_containing_mention                        107150 non-null  float64 \n",
            " 34  Ratio_of_tweets_containing_URLs                           107150 non-null  float64 \n",
            " 35  Ratio_of_tweets_containing_hashtag                        107150 non-null  float64 \n",
            " 36  Ratio_of_tweet_containing_NSFW_content                    107150 non-null  float64 \n",
            " 37  Ratio_of_tweets_that_are_retweets                         107150 non-null  float64 \n",
            " 38  Ratio_of_tweets_have_multimedia                           107150 non-null  float64 \n",
            " 39  Ratio_of_tweets_from_credible_authors                     107150 non-null  float64 \n",
            " 40  Ratio_of_tweets_containing_question_marks                 107150 non-null  float64 \n",
            " 41  Ratio_of_tweets_with_positive_sentimnet                   107150 non-null  float64 \n",
            " 42  Ratio_of_tweets_with_negative_sentiment                   107150 non-null  float64 \n",
            " 43  Ratio_of_tweets_with_netural_sentiment                    107150 non-null  float64 \n",
            " 44  Ratio_of_tweets_containing_exclamation                    107150 non-null  float64 \n",
            " 45  Ratio_of_tweets_containing_happy_smileys                  107150 non-null  float64 \n",
            " 46  Ratio_of_tweets_having_specific_words_in_tweet            107150 non-null  float64 \n",
            " 47  Ratio_of_tweets_from_authors_have_URL_in_their_home_page  107150 non-null  float64 \n",
            " 48  Ratio_of_Authorsr_who_follwed_by__credibleuser            107150 non-null  float64 \n",
            " 49  Ratio_of_authors_have_description                         107150 non-null  float64 \n",
            " 50  Average_tweet_length                                      107150 non-null  float64 \n",
            " 51  Average_registration_age                                  107150 non-null  float64 \n",
            " 52  Average_number_of_tweets_posted_Activity                  107150 non-null  float64 \n",
            " 53  Average_number_of_favorites                               107150 non-null  float64 \n",
            " 54  Average_Number_of_followers                               107150 non-null  float64 \n",
            " 55  Average_Number_of_following                               107150 non-null  float64 \n",
            " 56  Average_Time_span                                         107150 non-null  float64 \n",
            " 57  Average_number_of_retweets                                107150 non-null  float64 \n",
            " 58  Average_listed_counts                                     107150 non-null  float64 \n",
            " 59  Average_user_effect                                       107150 non-null  float64 \n",
            " 60  Average_of_Reputaion                                      107150 non-null  float64 \n",
            " 61  Topic_Detection                                           107150 non-null  bool    \n",
            "dtypes: bool(2), category(2), float64(56), object(2)\n",
            "memory usage: 48.6+ MB\n"
          ],
          "name": "stdout"
        }
      ]
    },
    {
      "cell_type": "code",
      "metadata": {
        "id": "JF9W2_vma6Sm"
      },
      "source": [
        "from nltk.stem import PorterStemmer\n",
        "from nltk.corpus import stopwords"
      ],
      "execution_count": 9,
      "outputs": []
    },
    {
      "cell_type": "code",
      "metadata": {
        "colab": {
          "base_uri": "https://localhost:8080/"
        },
        "id": "RRzxEr5rdJ_H",
        "outputId": "4e3540e0-92b3-4ff9-97da-c0b5988f0dde"
      },
      "source": [
        "nltk.download('stopwords')"
      ],
      "execution_count": 10,
      "outputs": [
        {
          "output_type": "stream",
          "text": [
            "[nltk_data] Downloading package stopwords to /root/nltk_data...\n",
            "[nltk_data]   Package stopwords is already up-to-date!\n"
          ],
          "name": "stdout"
        },
        {
          "output_type": "execute_result",
          "data": {
            "text/plain": [
              "True"
            ]
          },
          "metadata": {
            "tags": []
          },
          "execution_count": 10
        }
      ]
    },
    {
      "cell_type": "code",
      "metadata": {
        "id": "m2ue_qTYdR87",
        "outputId": "da85fa80-b612-4273-8e94-6259393b34ec",
        "colab": {
          "base_uri": "https://localhost:8080/",
          "height": 35
        }
      },
      "source": [
        "str(df['Topic_Name'].dtypes)"
      ],
      "execution_count": 11,
      "outputs": [
        {
          "output_type": "execute_result",
          "data": {
            "application/vnd.google.colaboratory.intrinsic+json": {
              "type": "string"
            },
            "text/plain": [
              "'object'"
            ]
          },
          "metadata": {
            "tags": []
          },
          "execution_count": 11
        }
      ]
    },
    {
      "cell_type": "code",
      "metadata": {
        "id": "oYuzv-O4abxM"
      },
      "source": [
        "stemed_text_topic = []\n",
        "for i in df['Topic_Name']:\n",
        "  new_stemed_sentense = []\n",
        "  for j in i.split(' '):\n",
        "    if not j in stopwords.words('arabic'): \n",
        "      new_stemed_sentense.append(PorterStemmer().stem(j))\n",
        "  stemed_text_topic.append(\" \".join(new_stemed_sentense))   "
      ],
      "execution_count": 12,
      "outputs": []
    },
    {
      "cell_type": "code",
      "metadata": {
        "id": "Ror81eJWgbfd"
      },
      "source": [
        "stemed_text_tweet = []\n",
        "for i in df['tweet_without_EOL']:\n",
        "  new_stemed_sentense = []\n",
        "  for j in i.split(' '):\n",
        "    if not j in stopwords.words('arabic'): \n",
        "      new_stemed_sentense.append(PorterStemmer().stem(j))\n",
        "  stemed_text_tweet.append(\" \".join(new_stemed_sentense))  "
      ],
      "execution_count": 13,
      "outputs": []
    },
    {
      "cell_type": "markdown",
      "metadata": {
        "id": "UGchyT-yqfc1"
      },
      "source": [
        "# New Section"
      ]
    },
    {
      "cell_type": "code",
      "metadata": {
        "id": "vVcHzgmIdn1X"
      },
      "source": [
        "df['Topic_Name'] = stemed_text_topic\n",
        "df['tweet_without_EOL'] = stemed_text_tweet"
      ],
      "execution_count": 14,
      "outputs": []
    },
    {
      "cell_type": "code",
      "metadata": {
        "id": "ZbIDBMkPfw_O"
      },
      "source": [
        "from sklearn.feature_extraction.text import CountVectorizer\n",
        "cv = CountVectorizer(max_features=1000)"
      ],
      "execution_count": 16,
      "outputs": []
    },
    {
      "cell_type": "code",
      "metadata": {
        "id": "jRALcvrVgBxv"
      },
      "source": [
        "hashtag = cv.fit_transform(df['Topic_Name'].values).toarray()\n",
        "cv = CountVectorizer(max_features=1000)\n",
        "tweet = cv.fit_transform(df['tweet_without_EOL'].values).toarray()"
      ],
      "execution_count": 17,
      "outputs": []
    },
    {
      "cell_type": "code",
      "metadata": {
        "id": "AOl4XDMYmLmt",
        "outputId": "524a6551-6d09-4ce9-ec69-98b1719fb611",
        "colab": {
          "base_uri": "https://localhost:8080/"
        }
      },
      "source": [
        "tweet.shape"
      ],
      "execution_count": 18,
      "outputs": [
        {
          "output_type": "execute_result",
          "data": {
            "text/plain": [
              "(107150, 2500)"
            ]
          },
          "metadata": {
            "tags": []
          },
          "execution_count": 18
        }
      ]
    },
    {
      "cell_type": "code",
      "metadata": {
        "id": "jn4r9vsYl_9T"
      },
      "source": [
        "x = np.concatenate((hashtag,tweet),axis=1)"
      ],
      "execution_count": 19,
      "outputs": []
    },
    {
      "cell_type": "code",
      "metadata": {
        "id": "4W5HqjxOmkpQ",
        "outputId": "03ffb97a-9857-4ea4-dfe8-c3771f6eeca0",
        "colab": {
          "base_uri": "https://localhost:8080/"
        }
      },
      "source": [
        "feture = pd.DataFrame()\n",
        "feture = df.drop(\"Topic_Name\" , axis = 1)\n",
        "feture = feture.drop(\"tweet_without_EOL\" , axis = 1)\n",
        "feture = feture.drop(\"Topic_Detection\" , axis = 1)\n",
        "feture = pd.concat([feture, pd.DataFrame(x)], axis=1)\n",
        "feture.shape"
      ],
      "execution_count": 20,
      "outputs": [
        {
          "output_type": "execute_result",
          "data": {
            "text/plain": [
              "(107150, 3426)"
            ]
          },
          "metadata": {
            "tags": []
          },
          "execution_count": 20
        }
      ]
    },
    {
      "cell_type": "code",
      "metadata": {
        "id": "OWVK6HMNkKkP"
      },
      "source": [
        "from sklearn.model_selection import train_test_split\n",
        "x_train, x_test, y_train, y_test = train_test_split(feture, df['Topic_Detection'], test_size=0.33, random_state=42)"
      ],
      "execution_count": 21,
      "outputs": []
    },
    {
      "cell_type": "code",
      "metadata": {
        "id": "xFp6jzXLgVjP"
      },
      "source": [
        "from sklearn.ensemble import RandomForestClassifier\n",
        "from sklearn.tree import DecisionTreeClassifier"
      ],
      "execution_count": 22,
      "outputs": []
    },
    {
      "cell_type": "code",
      "metadata": {
        "id": "pn3KypmshbML"
      },
      "source": [
        "random_forest = RandomForestClassifier()"
      ],
      "execution_count": 23,
      "outputs": []
    },
    {
      "cell_type": "code",
      "metadata": {
        "id": "LLaf2ebvheKE"
      },
      "source": [
        "random_forest.fit(x_train,y_train)"
      ],
      "execution_count": null,
      "outputs": []
    },
    {
      "cell_type": "code",
      "metadata": {
        "id": "R9I2EShFhq1q"
      },
      "source": [
        "pred = random_forest.predict(x_test)"
      ],
      "execution_count": null,
      "outputs": []
    },
    {
      "cell_type": "code",
      "metadata": {
        "id": "MGYqirNQJP5d"
      },
      "source": [
        "from sklearn.metrics import accuracy_score\n",
        "accuracy_score(y_test,pred)"
      ],
      "execution_count": null,
      "outputs": []
    },
    {
      "cell_type": "code",
      "metadata": {
        "id": "SH7ltuV4psWG"
      },
      "source": [
        "from sklearn.metrics import balanced_accuracy_score\n",
        "balanced_accuracy_score(y_test,pred)"
      ],
      "execution_count": null,
      "outputs": []
    },
    {
      "cell_type": "code",
      "metadata": {
        "id": "SeuIXo6GJWh1"
      },
      "source": [
        "from sklearn.metrics import f1_score\n",
        "f1_score(y_test,pred, average='weighted')\n"
      ],
      "execution_count": null,
      "outputs": []
    }
  ]
}